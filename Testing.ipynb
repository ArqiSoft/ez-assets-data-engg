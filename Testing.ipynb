{
 "cells": [
  {
   "cell_type": "code",
   "execution_count": 4,
   "id": "cb3f972d",
   "metadata": {},
   "outputs": [],
   "source": [
    "import os\n",
    "import json"
   ]
  },
  {
   "cell_type": "code",
   "execution_count": 5,
   "id": "c95e08e0",
   "metadata": {},
   "outputs": [
    {
     "name": "stdout",
     "output_type": "stream",
     "text": [
      "50\n"
     ]
    }
   ],
   "source": [
    "print(50)"
   ]
  },
  {
   "cell_type": "code",
   "execution_count": 6,
   "id": "9a59f614",
   "metadata": {},
   "outputs": [],
   "source": [
    "def count_lines_starting_with(input_file, *prefixes):\n",
    "    line_counts = {prefix: 0 for prefix in prefixes}\n",
    "    with open(input_file, 'r', encoding='utf-8') as f:  # Specify encoding here\n",
    "        for line in f:\n",
    "            for prefix in prefixes:\n",
    "                if line.startswith(prefix):\n",
    "                    line_counts[prefix] += 1\n",
    "    return line_counts"
   ]
  },
  {
   "cell_type": "code",
   "execution_count": 10,
   "id": "050ad373",
   "metadata": {},
   "outputs": [
    {
     "ename": "KeyboardInterrupt",
     "evalue": "",
     "output_type": "error",
     "traceback": [
      "\u001b[1;31m---------------------------------------------------------------------------\u001b[0m",
      "\u001b[1;31mKeyboardInterrupt\u001b[0m                         Traceback (most recent call last)",
      "Cell \u001b[1;32mIn[10], line 2\u001b[0m\n\u001b[0;32m      1\u001b[0m \u001b[38;5;66;03m# Call the function with the file path and prefixes\u001b[39;00m\n\u001b[1;32m----> 2\u001b[0m line_counts \u001b[38;5;241m=\u001b[39m count_lines_starting_with(\u001b[38;5;124m'\u001b[39m\u001b[38;5;124maggregated-properties.json\u001b[39m\u001b[38;5;124m'\u001b[39m, \u001b[38;5;124m'\u001b[39m\u001b[38;5;124m\"\u001b[39m\u001b[38;5;124m_index\u001b[39m\u001b[38;5;124m\"\u001b[39m\u001b[38;5;124m: \u001b[39m\u001b[38;5;124m\"\u001b[39m\u001b[38;5;124maggregated-properties\u001b[39m\u001b[38;5;124m\"\u001b[39m\u001b[38;5;124m'\u001b[39m, \u001b[38;5;124m'\u001b[39m\u001b[38;5;124m{\u001b[39m\u001b[38;5;124m'\u001b[39m)\n",
      "Cell \u001b[1;32mIn[6], line 4\u001b[0m, in \u001b[0;36mcount_lines_starting_with\u001b[1;34m(input_file, *prefixes)\u001b[0m\n\u001b[0;32m      2\u001b[0m line_counts \u001b[38;5;241m=\u001b[39m {prefix: \u001b[38;5;241m0\u001b[39m \u001b[38;5;28;01mfor\u001b[39;00m prefix \u001b[38;5;129;01min\u001b[39;00m prefixes}\n\u001b[0;32m      3\u001b[0m \u001b[38;5;28;01mwith\u001b[39;00m \u001b[38;5;28mopen\u001b[39m(input_file, \u001b[38;5;124m'\u001b[39m\u001b[38;5;124mr\u001b[39m\u001b[38;5;124m'\u001b[39m, encoding\u001b[38;5;241m=\u001b[39m\u001b[38;5;124m'\u001b[39m\u001b[38;5;124mutf-8\u001b[39m\u001b[38;5;124m'\u001b[39m) \u001b[38;5;28;01mas\u001b[39;00m f:  \u001b[38;5;66;03m# Specify encoding here\u001b[39;00m\n\u001b[1;32m----> 4\u001b[0m     \u001b[38;5;28;01mfor\u001b[39;00m line \u001b[38;5;129;01min\u001b[39;00m f:\n\u001b[0;32m      5\u001b[0m         \u001b[38;5;28;01mfor\u001b[39;00m prefix \u001b[38;5;129;01min\u001b[39;00m prefixes:\n\u001b[0;32m      6\u001b[0m             \u001b[38;5;28;01mif\u001b[39;00m line\u001b[38;5;241m.\u001b[39mstartswith(prefix):\n",
      "File \u001b[1;32m<frozen codecs>:319\u001b[0m, in \u001b[0;36mdecode\u001b[1;34m(self, input, final)\u001b[0m\n",
      "\u001b[1;31mKeyboardInterrupt\u001b[0m: "
     ]
    }
   ],
   "source": [
    "# Call the function with the file path and prefixes\n",
    "line_counts = count_lines_starting_with('aggregated-properties.json', '\"_index\": \"aggregated-properties\"', '{')\n"
   ]
  },
  {
   "cell_type": "code",
   "execution_count": null,
   "id": "375b58a0",
   "metadata": {},
   "outputs": [
    {
     "name": "stdout",
     "output_type": "stream",
     "text": [
      "Number of lines starting with '_index: aggregated-properties': 0\n"
     ]
    }
   ],
   "source": [
    "print(\"Number of lines starting with '_index: aggregated-properties':\", line_counts['\"_index\": \"aggregated-properties\"'])"
   ]
  },
  {
   "cell_type": "code",
   "execution_count": null,
   "id": "0c4aed41",
   "metadata": {},
   "outputs": [
    {
     "name": "stdout",
     "output_type": "stream",
     "text": [
      "Number of lines starting with '{': 0\n"
     ]
    }
   ],
   "source": [
    "print(\"Number of lines starting with '{':\", line_counts['{'])"
   ]
  },
  {
   "cell_type": "code",
   "execution_count": 8,
   "id": "ae42cb19",
   "metadata": {},
   "outputs": [],
   "source": [
    "def count_lines_containing(input_file, *strings):\n",
    "    line_counts = {string: 0 for string in strings}\n",
    "    with open(input_file, 'r', encoding='utf-8') as f:\n",
    "        for line in f:\n",
    "            for string in strings:\n",
    "                if string in line:\n",
    "                    line_counts[string] += 1\n",
    "    return line_counts\n"
   ]
  },
  {
   "cell_type": "code",
   "execution_count": 9,
   "id": "eb3e64f2",
   "metadata": {},
   "outputs": [
    {
     "ename": "FileNotFoundError",
     "evalue": "[Errno 2] No such file or directory: 'aggregated-properties.json'",
     "output_type": "error",
     "traceback": [
      "\u001b[1;31m---------------------------------------------------------------------------\u001b[0m",
      "\u001b[1;31mFileNotFoundError\u001b[0m                         Traceback (most recent call last)",
      "Cell \u001b[1;32mIn[9], line 2\u001b[0m\n\u001b[0;32m      1\u001b[0m \u001b[38;5;66;03m# Call the function with the file path and strings\u001b[39;00m\n\u001b[1;32m----> 2\u001b[0m line_counts \u001b[38;5;241m=\u001b[39m count_lines_containing(\u001b[38;5;124m'\u001b[39m\u001b[38;5;124maggregated-properties.json\u001b[39m\u001b[38;5;124m'\u001b[39m, \u001b[38;5;124m'\u001b[39m\u001b[38;5;124m\"\u001b[39m\u001b[38;5;124m_index\u001b[39m\u001b[38;5;124m\"\u001b[39m\u001b[38;5;124m: \u001b[39m\u001b[38;5;124m\"\u001b[39m\u001b[38;5;124maggregated-properties\u001b[39m\u001b[38;5;124m\"\u001b[39m\u001b[38;5;124m'\u001b[39m, \u001b[38;5;124m'\u001b[39m\u001b[38;5;124m{\u001b[39m\u001b[38;5;124m'\u001b[39m)\n",
      "Cell \u001b[1;32mIn[8], line 3\u001b[0m, in \u001b[0;36mcount_lines_containing\u001b[1;34m(input_file, *strings)\u001b[0m\n\u001b[0;32m      1\u001b[0m \u001b[38;5;28;01mdef\u001b[39;00m \u001b[38;5;21mcount_lines_containing\u001b[39m(input_file, \u001b[38;5;241m*\u001b[39mstrings):\n\u001b[0;32m      2\u001b[0m     line_counts \u001b[38;5;241m=\u001b[39m {string: \u001b[38;5;241m0\u001b[39m \u001b[38;5;28;01mfor\u001b[39;00m string \u001b[38;5;129;01min\u001b[39;00m strings}\n\u001b[1;32m----> 3\u001b[0m     \u001b[38;5;28;01mwith\u001b[39;00m \u001b[38;5;28mopen\u001b[39m(input_file, \u001b[38;5;124m'\u001b[39m\u001b[38;5;124mr\u001b[39m\u001b[38;5;124m'\u001b[39m, encoding\u001b[38;5;241m=\u001b[39m\u001b[38;5;124m'\u001b[39m\u001b[38;5;124mutf-8\u001b[39m\u001b[38;5;124m'\u001b[39m) \u001b[38;5;28;01mas\u001b[39;00m f:\n\u001b[0;32m      4\u001b[0m         \u001b[38;5;28;01mfor\u001b[39;00m line \u001b[38;5;129;01min\u001b[39;00m f:\n\u001b[0;32m      5\u001b[0m             \u001b[38;5;28;01mfor\u001b[39;00m string \u001b[38;5;129;01min\u001b[39;00m strings:\n",
      "File \u001b[1;32mc:\\Users\\maxsu\\anaconda3\\Lib\\site-packages\\IPython\\core\\interactiveshell.py:310\u001b[0m, in \u001b[0;36m_modified_open\u001b[1;34m(file, *args, **kwargs)\u001b[0m\n\u001b[0;32m    303\u001b[0m \u001b[38;5;28;01mif\u001b[39;00m file \u001b[38;5;129;01min\u001b[39;00m {\u001b[38;5;241m0\u001b[39m, \u001b[38;5;241m1\u001b[39m, \u001b[38;5;241m2\u001b[39m}:\n\u001b[0;32m    304\u001b[0m     \u001b[38;5;28;01mraise\u001b[39;00m \u001b[38;5;167;01mValueError\u001b[39;00m(\n\u001b[0;32m    305\u001b[0m         \u001b[38;5;124mf\u001b[39m\u001b[38;5;124m\"\u001b[39m\u001b[38;5;124mIPython won\u001b[39m\u001b[38;5;124m'\u001b[39m\u001b[38;5;124mt let you open fd=\u001b[39m\u001b[38;5;132;01m{\u001b[39;00mfile\u001b[38;5;132;01m}\u001b[39;00m\u001b[38;5;124m by default \u001b[39m\u001b[38;5;124m\"\u001b[39m\n\u001b[0;32m    306\u001b[0m         \u001b[38;5;124m\"\u001b[39m\u001b[38;5;124mas it is likely to crash IPython. If you know what you are doing, \u001b[39m\u001b[38;5;124m\"\u001b[39m\n\u001b[0;32m    307\u001b[0m         \u001b[38;5;124m\"\u001b[39m\u001b[38;5;124myou can use builtins\u001b[39m\u001b[38;5;124m'\u001b[39m\u001b[38;5;124m open.\u001b[39m\u001b[38;5;124m\"\u001b[39m\n\u001b[0;32m    308\u001b[0m     )\n\u001b[1;32m--> 310\u001b[0m \u001b[38;5;28;01mreturn\u001b[39;00m io_open(file, \u001b[38;5;241m*\u001b[39margs, \u001b[38;5;241m*\u001b[39m\u001b[38;5;241m*\u001b[39mkwargs)\n",
      "\u001b[1;31mFileNotFoundError\u001b[0m: [Errno 2] No such file or directory: 'aggregated-properties.json'"
     ]
    }
   ],
   "source": [
    "# Call the function with the file path and strings\n",
    "line_counts = count_lines_containing('aggregated-properties.json', '\"_index\": \"aggregated-properties\"', '{')"
   ]
  },
  {
   "cell_type": "code",
   "execution_count": null,
   "id": "f3128547",
   "metadata": {},
   "outputs": [
    {
     "name": "stdout",
     "output_type": "stream",
     "text": [
      "Number of lines containing '_index: aggregated-properties': 206470\n"
     ]
    }
   ],
   "source": [
    "print(\"Number of lines containing '_index: aggregated-properties':\", line_counts['\"_index\": \"aggregated-properties\"'])"
   ]
  },
  {
   "cell_type": "code",
   "execution_count": null,
   "id": "15bed630",
   "metadata": {},
   "outputs": [],
   "source": [
    "# Function to print data between instances of the specified strings\n",
    "def print_data_between_sections(input_file, start_string, end_string):\n",
    "    found_start = False\n",
    "    found_end = False\n",
    "    data_lines = []\n",
    "    with open(input_file, 'r', encoding='utf-8') as f:\n",
    "        for line in f:\n",
    "            if found_start and not found_end:\n",
    "                data_lines.append(line.strip())\n",
    "            if start_string in line:\n",
    "                found_start = True\n",
    "                if data_lines:  # Print data from previous section\n",
    "                    print(\"Data between sections:\")\n",
    "                    for data_line in data_lines:\n",
    "                        print(data_line)\n",
    "                    print()  # Print an empty line to separate sections\n",
    "                    data_lines = []  # Reset data lines\n",
    "            elif found_start and end_string in line:\n",
    "                found_end = True\n",
    "                found_start = False\n",
    "                data_lines = []  # Reset data lines for the next section\n",
    "    if data_lines:  # Print data from the last section\n",
    "        print(\"Data between sections:\")\n",
    "        for data_line in data_lines:\n",
    "            print(data_line)"
   ]
  },
  {
   "cell_type": "code",
   "execution_count": null,
   "id": "0408ac44",
   "metadata": {},
   "outputs": [
    {
     "ename": "NameError",
     "evalue": "name 'print_data_between_sections' is not defined",
     "output_type": "error",
     "traceback": [
      "\u001b[1;31m---------------------------------------------------------------------------\u001b[0m",
      "\u001b[1;31mNameError\u001b[0m                                 Traceback (most recent call last)",
      "Cell \u001b[1;32mIn[3], line 2\u001b[0m\n\u001b[0;32m      1\u001b[0m \u001b[38;5;66;03m# Call the function with the file path and start/end strings\u001b[39;00m\n\u001b[1;32m----> 2\u001b[0m print_data_between_sections(\u001b[38;5;124m'\u001b[39m\u001b[38;5;124maggregated-properties.json\u001b[39m\u001b[38;5;124m'\u001b[39m, \u001b[38;5;124m'\u001b[39m\u001b[38;5;124m\"\u001b[39m\u001b[38;5;124m_index\u001b[39m\u001b[38;5;124m\"\u001b[39m\u001b[38;5;124m: \u001b[39m\u001b[38;5;124m\"\u001b[39m\u001b[38;5;124maggregated-properties\u001b[39m\u001b[38;5;124m\"\u001b[39m\u001b[38;5;124m'\u001b[39m, \u001b[38;5;124m'\u001b[39m\u001b[38;5;124m\"\u001b[39m\u001b[38;5;124m_index\u001b[39m\u001b[38;5;124m\"\u001b[39m\u001b[38;5;124m: \u001b[39m\u001b[38;5;124m\"\u001b[39m\u001b[38;5;124maggregated-properties\u001b[39m\u001b[38;5;124m\"\u001b[39m\u001b[38;5;124m'\u001b[39m)\n",
      "\u001b[1;31mNameError\u001b[0m: name 'print_data_between_sections' is not defined"
     ]
    }
   ],
   "source": [
    "# Call the function with the file path and start/end strings\n",
    "print_data_between_sections('aggregated-properties.json', '\"_index\": \"aggregated-properties\"', '\"_index\": \"aggregated-properties\"')"
   ]
  },
  {
   "cell_type": "code",
   "execution_count": null,
   "id": "93cea722",
   "metadata": {},
   "outputs": [],
   "source": [
    "# Function to print the first chunk of data between instances of the specified strings\n",
    "def print_first_chunk(input_file, start_string, end_string):\n",
    "    data_lines = []\n",
    "    skip_next_two = False\n",
    "    with open(input_file, 'r', encoding='utf-8') as f:\n",
    "        for line in f:\n",
    "            if start_string in line:\n",
    "                data_lines.append(line.strip())\n",
    "                for line in f:  # Continue reading lines until reaching the end string or end of file\n",
    "                    if skip_next_two:\n",
    "                        skip_next_two = False\n",
    "                        continue\n",
    "                    data_lines.append(line.strip())\n",
    "                    if end_string in line:\n",
    "                        break\n",
    "                    if '{\"_index\": \"aggregated-properties\",' in line:\n",
    "                        skip_next_two = True\n",
    "                break  # Stop searching once the first chunk is found\n",
    "    if data_lines:  # Print the first chunk of data\n",
    "        print(\"First chunk of data between sections:\")\n",
    "        for data_line in data_lines:\n",
    "            print(data_line)"
   ]
  },
  {
   "cell_type": "code",
   "execution_count": null,
   "id": "bc3e7ae2",
   "metadata": {},
   "outputs": [],
   "source": [
    "print_first_chunk('aggregated-properties.json', '\"_index\": \"aggregated-properties\"', '\"_index\": \"aggregated-properties\"')\n"
   ]
  },
  {
   "cell_type": "code",
   "execution_count": null,
   "id": "7342c6f4",
   "metadata": {},
   "outputs": [],
   "source": [
    "def print_first_chunk(input_file, start_string, end_string):\n",
    "    data_lines = []\n",
    "    skip_next_line = False\n",
    "    with open(input_file, 'r', encoding='utf-8') as f:\n",
    "        for line in f:\n",
    "            if start_string in line:\n",
    "                if skip_next_line:\n",
    "                    skip_next_line = False\n",
    "                    continue\n",
    "                skip_next_line = True\n",
    "            elif end_string in line:\n",
    "                break\n",
    "            elif skip_next_line:\n",
    "                data_lines.append(line.strip())\n",
    "                skip_next_line = False\n",
    "\n",
    "    if data_lines:  # Print the first chunk of data\n",
    "        print(\"First chunk of data between sections:\")\n",
    "        for data_line in data_lines:\n",
    "            print(data_line)"
   ]
  },
  {
   "cell_type": "code",
   "execution_count": null,
   "id": "6799cf32",
   "metadata": {},
   "outputs": [],
   "source": [
    "print_first_chunk('aggregated-properties.json', '\"_index\": \"aggregated-properties\"', '\"_index\": \"aggregated-properties\"')"
   ]
  },
  {
   "cell_type": "code",
   "execution_count": null,
   "id": "2792a61f",
   "metadata": {},
   "outputs": [],
   "source": [
    "def print_chunks2(input_file, start_string, end_string):\n",
    "    data_lines = []\n",
    "    in_chunk = False\n",
    "    with open(input_file, 'r', encoding='utf-8') as f:\n",
    "        for line in f:\n",
    "            if start_string in line:\n",
    "                in_chunk = True\n",
    "                continue  # Skip appending the start_string line to the chunk\n",
    "            elif end_string in line:\n",
    "                in_chunk = False\n",
    "                continue  # Skip appending the end_string line to the chunk\n",
    "            elif in_chunk:\n",
    "                data_lines.append(line.strip())\n",
    "    if data_lines:  # Print the chunks\n",
    "        print(\"Chunks between sections:\")\n",
    "        for i in range(0, len(data_lines), 3):\n",
    "            print(data_lines[i])  # Print the line above the first instance\n",
    "            print(data_lines[i+1])  # Print the first instance\n",
    "            print(data_lines[i+2])  # Print the second instance\n"
   ]
  },
  {
   "cell_type": "code",
   "execution_count": null,
   "id": "0522bfcb",
   "metadata": {},
   "outputs": [],
   "source": [
    "print_chunks2('aggregated-properties.json', '\"_index\": \"aggregated-properties\"', '\"_index\": \"aggregated-properties\"')"
   ]
  },
  {
   "cell_type": "code",
   "execution_count": null,
   "id": "78cc8d46",
   "metadata": {},
   "outputs": [],
   "source": [
    "def print_chunks(input_file, start_string, end_string):\n",
    "    chunks = []\n",
    "    current_chunk = []\n",
    "    start_next_chunk = False\n",
    "    with open(input_file, 'r', encoding='utf-8') as f:\n",
    "        prev_line = None\n",
    "        for line in f:\n",
    "            if start_string in line:\n",
    "                if start_next_chunk:\n",
    "                    start_next_chunk = False\n",
    "                    if current_chunk:\n",
    "                        chunks.append(current_chunk)\n",
    "                        current_chunk = []\n",
    "                else:\n",
    "                    start_next_chunk = True\n",
    "                if current_chunk:\n",
    "                    chunks.append(current_chunk)\n",
    "                    current_chunk = []\n",
    "                if prev_line is not None:\n",
    "                    current_chunk.append(prev_line.strip())\n",
    "            elif end_string in line:\n",
    "                if current_chunk:\n",
    "                    chunks.append(current_chunk)\n",
    "                    current_chunk = []\n",
    "                break\n",
    "            elif start_next_chunk:\n",
    "                current_chunk.append(line.strip())\n",
    "                start_next_chunk = False\n",
    "            prev_line = line\n",
    "\n",
    "    if chunks:  # Print the chunks\n",
    "        print(\"Chunks between sections:\")\n",
    "        for i, chunk in enumerate(chunks):\n",
    "            print(f\"Chunk {i+1}:\")\n",
    "            for data_line in chunk:\n",
    "                print(data_line)\n",
    "\n",
    "    return chunks"
   ]
  },
  {
   "cell_type": "code",
   "execution_count": null,
   "id": "a7c934e9",
   "metadata": {},
   "outputs": [],
   "source": [
    "# Call the function with the file path and start/end strings\n",
    "chunks = print_chunks('aggregated-properties.json', '\"_index\": \"aggregated-properties\"', '\"_index\": \"aggregated-properties\"')"
   ]
  },
  {
   "cell_type": "code",
   "execution_count": 17,
   "id": "14c75d69",
   "metadata": {},
   "outputs": [],
   "source": [
    "def find_first_opening_brace(json_file_path):\n",
    "    with open(json_file_path, 'r',encoding='utf-8') as f:\n",
    "        while True:\n",
    "            char = f.read(1)\n",
    "            if char == '{':\n",
    "                return f.tell() - 1  # Return the position of the opening brace\n",
    "            elif not char:\n",
    "                raise ValueError(\"No opening brace found in the JSON file.\")\n"
   ]
  },
  {
   "cell_type": "code",
   "execution_count": 18,
   "id": "99368a51",
   "metadata": {},
   "outputs": [],
   "source": [
    "def find_matching_closing_brace(json_file_path, opening_brace_pos):\n",
    "    with open(json_file_path, 'r',encoding='utf-8') as f:\n",
    "        f.seek(opening_brace_pos)\n",
    "        brace_count = 1\n",
    "        while brace_count > 0:\n",
    "            char = f.read(1)\n",
    "            if char == '{':\n",
    "                brace_count += 1\n",
    "            elif char == '}':\n",
    "                brace_count -= 1\n",
    "            elif not char:\n",
    "                raise ValueError(\"No matching closing brace found in the JSON file.\")\n",
    "        return f.tell()"
   ]
  },
  {
   "cell_type": "code",
   "execution_count": 19,
   "id": "b983a1fb",
   "metadata": {},
   "outputs": [],
   "source": [
    "def print_json_before_extraction(json_file_path, opening_brace_pos, closing_brace_pos):\n",
    "    with open(json_file_path, 'r',encoding='utf-8') as f:\n",
    "        f.seek(opening_brace_pos)\n",
    "        print(\"{\", end=\"\")\n",
    "        while f.tell() < closing_brace_pos:\n",
    "            char = f.read(1)\n",
    "            print(char, end=\"\")\n",
    "        print(\"}\")"
   ]
  },
  {
   "cell_type": "code",
   "execution_count": 20,
   "id": "0097a3d8",
   "metadata": {},
   "outputs": [
    {
     "data": {
      "text/plain": [
       "4"
      ]
     },
     "execution_count": 20,
     "metadata": {},
     "output_type": "execute_result"
    }
   ],
   "source": [
    "find_first_opening_brace('aggregated-properties.json')"
   ]
  },
  {
   "cell_type": "code",
   "execution_count": 21,
   "id": "01b5f057",
   "metadata": {},
   "outputs": [
    {
     "data": {
      "text/plain": [
       "8299"
      ]
     },
     "execution_count": 21,
     "metadata": {},
     "output_type": "execute_result"
    }
   ],
   "source": [
    "find_matching_closing_brace('aggregated-properties.json',5 )"
   ]
  },
  {
   "cell_type": "code",
   "execution_count": 22,
   "id": "a89902dc",
   "metadata": {},
   "outputs": [
    {
     "name": "stdout",
     "output_type": "stream",
     "text": [
      "{\n",
      "    \"_index\": \"aggregated-properties\",\n",
      "    \"_type\": \"_doc\",\n",
      "    \"_id\": \"MjYtaG93YXJkLXN0LW5ldy1icml0YWluLWN0LTA2MDUx\",\n",
      "    \"_score\": 1.0,\n",
      "    \"_source\": {\n",
      "      \"id\": \"MjYtaG93YXJkLXN0LW5ldy1icml0YWluLWN0LTA2MDUx\",\n",
      "      \"propertyId\": 53881277,\n",
      "      \"listingId\": 144261581,\n",
      "      \"regionId\": 12956,\n",
      "      \"alias\": \"26-howard-st-new-britain-ct-06051\",\n",
      "      \"location\": {\n",
      "        \"id\": \"ca1b7d79-7cb2-416e-8fc5-6f0a33647c21\",\n",
      "        \"street\": \"26 Howard St\",\n",
      "        \"city\": \"New Britain\",\n",
      "        \"state\": \"CT\",\n",
      "        \"zipCode\": \"06051\",\n",
      "        \"coordinates\": {\n",
      "          \"lat\": 41.6747639,\n",
      "          \"lon\": -72.7614177\n",
      "        },\n",
      "        \"lng\": -72.7614177,\n",
      "        \"lat\": 41.6747639\n",
      "      },\n",
      "      \"status\": \"Off Market\",\n",
      "      \"yearBuilt\": 1910,\n",
      "      \"lotSize\": 0,\n",
      "      \"finished\": 0,\n",
      "      \"beds\": 3,\n",
      "      \"floorSpace\": 1442,\n",
      "      \"baths\": 1.5,\n",
      "      \"propertyTypeName\": \"Single Family Residential\",\n",
      "      \"dateScanned\": \"2022-01-28T22:01:19.4080208+00:00\",\n",
      "      \"dateUpdate\": \"2022-12-19T06:22:33.2257017+00:00\",\n",
      "      \"dateLastAnalysis\": \"2022-12-19T06:22:33.2250239+00:00\",\n",
      "      \"rentRange\": {\n",
      "        \"value\": 1650,\n",
      "        \"high\": 1650,\n",
      "        \"low\": 1650\n",
      "      },\n",
      "      \"assignedSchools\": [\n",
      "        {\n",
      "          \"id\": 109814,\n",
      "          \"location\": {\n",
      "            \"id\": \"5cde7741-9212-406e-bcd5-ed01053d2c4b\",\n",
      "            \"street\": \"272 Main Street\",\n",
      "            \"city\": \"New Britain\",\n",
      "            \"state\": \"CT\",\n",
      "            \"zipCode\": \"06051\",\n",
      "            \"coordinates\": {\n",
      "              \"lat\": 41.66804122924805,\n",
      "              \"lon\": -72.78218841552734\n",
      "            },\n",
      "            \"lng\": -72.78218841552734,\n",
      "            \"lat\": 41.66804122924805\n",
      "          },\n",
      "          \"url\": \"https://www.greatschools.org/connecticut/new-britain/545-Chamberlain-School/\",\n",
      "          \"name\": \"Chamberlain Elementary School\",\n",
      "          \"district\": \"New Britain School District\",\n",
      "          \"categoriesList\": [\n",
      "            \"ELEMENTARY\"\n",
      "          ],\n",
      "          \"categories\": \"ELEMENTARY\",\n",
      "          \"rating\": 1,\n",
      "          \"studentCount\": 476\n",
      "        },\n",
      "        {\n",
      "          \"id\": 66456,\n",
      "          \"location\": {\n",
      "            \"id\": \"b412ee40-5723-4e88-bd22-4b0e32999d72\",\n",
      "            \"street\": \"272 Main Street\",\n",
      "            \"city\": \"New Britain\",\n",
      "            \"state\": \"CT\",\n",
      "            \"zipCode\": \"06051\",\n",
      "            \"coordinates\": {\n",
      "              \"lat\": 41.66804122924805,\n",
      "              \"lon\": -72.78218841552734\n",
      "            },\n",
      "            \"lng\": -72.78218841552734,\n",
      "            \"lat\": 41.66804122924805\n",
      "          },\n",
      "          \"url\": \"https://www.greatschools.org/connecticut/new-britain/552-Pulaski-Middle-School/\",\n",
      "          \"name\": \"Pulaski Middle School\",\n",
      "          \"district\": \"New Britain School District\",\n",
      "          \"categoriesList\": [\n",
      "            \"MIDDLE\"\n",
      "          ],\n",
      "          \"categories\": \"MIDDLE\",\n",
      "          \"rating\": 1,\n",
      "          \"studentCount\": 875\n",
      "        }\n",
      "      ],\n",
      "      \"taxAssessment\": {\n",
      "        \"id\": 0,\n",
      "        \"year\": 2021,\n",
      "        \"amount\": 78050.0,\n",
      "        \"taxesDue\": 3863.0\n",
      "      },\n",
      "      \"analysis\": {\n",
      "        \"downPaymentPercent\": 25.0,\n",
      "        \"monthlyLoanPaymentAmount\": 1258.06,\n",
      "        \"closingCostsAmount\": 7100.0,\n",
      "        \"loanTermsYears\": 30,\n",
      "        \"interestRatePercent\": 7.5,\n",
      "        \"monthlyTaxAmount\": 321.9166666666667,\n",
      "        \"monthlyInsuranceAmount\": 52.0,\n",
      "        \"managementExpensePercent\": 8.0,\n",
      "        \"monthlyHoaAmount\": 0.0,\n",
      "        \"cashOnCashReturnPercent\": -3.5150503168095417,\n",
      "        \"rentRatioPercent\": 0.6877865777407253,\n",
      "        \"valueIncrease5Years\": 45025.944724684115,\n",
      "        \"internalRateOfReturnIn5YearsPercent\": 2.755692915966026,\n",
      "        \"capitalizationRatePercent\": 5.31,\n",
      "        \"vacancyAndMaintenancePercent\": 5.0,\n",
      "        \"monthlyCostAmount\": 1846.4766666666667,\n",
      "        \"monthlyCashFlowAmount\": -196.47666666666666,\n",
      "        \"taxRatePercent\": 2.11,\n",
      "        \"pricePerSqFtAmount\": 0.0,\n",
      "        \"neighborhoodRating\": 0.5,\n",
      "        \"rank\": 0.15939798732761834,\n",
      "        \"rehabCostsAmount\": 0.0,\n",
      "        \"hasError\": false\n",
      "      },\n",
      "      \"hoa\": 0,\n",
      "      \"homeInsuranceRate\": 0.48,\n",
      "      \"listingPrice\": 239900,\n",
      "      \"description\": \"HUD HOUSE IN NEW BRITAIN. COLONIAL STYLE WITH 3 BEDROOMS AND 2 FULL BATHROOMS. LARGE LIVING ROOM WITH ACCESS TO SIDE DECK AND BACK YARD. KITCHEN OPENING TO FORMAL DINING ROOM AND FAMILY ROOM. HARDWOOD FLOORS THROUGHOUT. FULL BATHROOM ON THE MAIN FLOOR. MASTERBEDROOM WITH WALL-TO-WALL CARPET AND PLENTY OF CLOSET SPACE. 2 BEDROOMS AND A FULL BATHROOM COMPLETE THE SECOND FLOOR. WALK-UP FINISHED ATTIC FOR EXTRA STORAGE. RECREATIONAL ROOM WITH OWN FIREPLACE IN THE LOWER LEVEL. ENCLOSED FRONT PORCH. GAS HEAT. ONE CAR DETACHED GARAGE AND MORE. SCHEDULE YOUR SHOWING TODAY!!! \",\n",
      "      \"links\": [\n",
      "        {\n",
      "          \"url\": \"https://www.redfin.com/CT/New-Britain/26-Howard-St-06051/home/53881277\",\n",
      "          \"caption\": \"Redfin\"\n",
      "        }\n",
      "      ],\n",
      "      \"images\": [\n",
      "        {\n",
      "          \"path\": \"photo%2F234%2Fbigphoto%2F299%2F170463299_0.jpg\",\n",
      "          \"classes\": [\n",
      "            \"good inside\",\n",
      "            \"living room\"\n",
      "          ]\n",
      "        },\n",
      "        {\n",
      "          \"path\": \"photo%2F234%2Fbigphoto%2F299%2F170463299_1_0.jpg\",\n",
      "          \"classes\": [\n",
      "            \"good outside\"\n",
      "          ]\n",
      "        },\n",
      "        {\n",
      "          \"path\": \"photo%2F234%2Fbigphoto%2F299%2F170463299_2_0.jpg\",\n",
      "          \"classes\": [\n",
      "            \"good inside\",\n",
      "            \"kitchen\"\n",
      "          ]\n",
      "        },\n",
      "        {\n",
      "          \"path\": \"photo%2F234%2Fbigphoto%2F299%2F170463299_3_0.jpg\",\n",
      "          \"classes\": [\n",
      "            \"good inside\",\n",
      "            \"kitchen\"\n",
      "          ]\n",
      "        },\n",
      "        {\n",
      "          \"path\": \"photo%2F234%2Fbigphoto%2F299%2F170463299_4_0.jpg\",\n",
      "          \"classes\": [\n",
      "            \"good inside\",\n",
      "            \"living room\"\n",
      "          ]\n",
      "        },\n",
      "        {\n",
      "          \"path\": \"photo%2F234%2Fbigphoto%2F299%2F170463299_5_0.jpg\",\n",
      "          \"classes\": [\n",
      "            \"good inside\",\n",
      "            \"living room\"\n",
      "          ]\n",
      "        },\n",
      "        {\n",
      "          \"path\": \"photo%2F234%2Fbigphoto%2F299%2F170463299_6_0.jpg\",\n",
      "          \"classes\": [\n",
      "            \"good inside\",\n",
      "            \"living room\"\n",
      "          ]\n",
      "        },\n",
      "        {\n",
      "          \"path\": \"photo%2F234%2Fbigphoto%2F299%2F170463299_7_0.jpg\",\n",
      "          \"classes\": [\n",
      "            \"good inside\",\n",
      "            \"living room\"\n",
      "          ]\n",
      "        },\n",
      "        {\n",
      "          \"path\": \"photo%2F234%2Fbigphoto%2F299%2F170463299_8_0.jpg\",\n",
      "          \"classes\": [\n",
      "            \"good inside\"\n",
      "          ]\n",
      "        },\n",
      "        {\n",
      "          \"path\": \"photo%2F234%2Fbigphoto%2F299%2F170463299_9_0.jpg\",\n",
      "          \"classes\": [\n",
      "            \"good inside\",\n",
      "            \"bathroom\"\n",
      "          ]\n",
      "        },\n",
      "        {\n",
      "          \"path\": \"photo%2F234%2Fbigphoto%2F299%2F170463299_10_0.jpg\",\n",
      "          \"classes\": [\n",
      "            \"good inside\",\n",
      "            \"living room\"\n",
      "          ]\n",
      "        },\n",
      "        {\n",
      "          \"path\": \"photo%2F234%2Fbigphoto%2F299%2F170463299_11_0.jpg\",\n",
      "          \"classes\": [\n",
      "            \"good inside\",\n",
      "            \"living room\"\n",
      "          ]\n",
      "        },\n",
      "        {\n",
      "          \"path\": \"photo%2F234%2Fbigphoto%2F299%2F170463299_12_0.jpg\",\n",
      "          \"classes\": [\n",
      "            \"good inside\"\n",
      "          ]\n",
      "        },\n",
      "        {\n",
      "          \"path\": \"photo%2F234%2Fbigphoto%2F299%2F170463299_13_0.jpg\",\n",
      "          \"classes\": [\n",
      "            \"good inside\",\n",
      "            \"bedroom\"\n",
      "          ]\n",
      "        },\n",
      "        {\n",
      "          \"path\": \"photo%2F234%2Fbigphoto%2F299%2F170463299_14_0.jpg\",\n",
      "          \"classes\": [\n",
      "            \"good inside\",\n",
      "            \"bedroom\"\n",
      "          ]\n",
      "        },\n",
      "        {\n",
      "          \"path\": \"photo%2F234%2Fbigphoto%2F299%2F170463299_15_0.jpg\",\n",
      "          \"classes\": [\n",
      "            \"good inside\",\n",
      "            \"kitchen\"\n",
      "          ]\n",
      "        },\n",
      "        {\n",
      "          \"path\": \"photo%2F234%2Fbigphoto%2F299%2F170463299_16_0.jpg\",\n",
      "          \"classes\": [\n",
      "            \"good inside\",\n",
      "            \"kitchen\"\n",
      "          ]\n",
      "        },\n",
      "        {\n",
      "          \"path\": \"photo%2F234%2Fbigphoto%2F299%2F170463299_17_0.jpg\",\n",
      "          \"classes\": [\n",
      "            \"good inside\",\n",
      "            \"bathroom\"\n",
      "          ]\n",
      "        }\n",
      "      ],\n",
      "      \"classes\": [\n",
      "        \"good\"\n",
      "      ],\n",
      "      \"zillow\": {\n",
      "        \"rent\": 1650,\n",
      "        \"zestimate\": 151090\n",
      "      },\n",
      "      \"manualMode\": false,\n",
      "      \"offMarket\": false,\n",
      "      \"verified\": false,\n",
      "      \"certified\": false,\n",
      "      \"locked\": false,\n",
      "      \"hasRegisteredRealtors\": false,\n",
      "      \"isNew\": false\n",
      "    }\n",
      "  }}\n"
     ]
    }
   ],
   "source": [
    "print_json_before_extraction('aggregated-properties.json', 5, 8299)"
   ]
  },
  {
   "cell_type": "code",
   "execution_count": 23,
   "id": "e7aa7977",
   "metadata": {},
   "outputs": [
    {
     "ename": "KeyboardInterrupt",
     "evalue": "",
     "output_type": "error",
     "traceback": [
      "\u001b[1;31m---------------------------------------------------------------------------\u001b[0m",
      "\u001b[1;31mKeyboardInterrupt\u001b[0m                         Traceback (most recent call last)",
      "Cell \u001b[1;32mIn[23], line 1\u001b[0m\n\u001b[1;32m----> 1\u001b[0m find_matching_closing_brace(\u001b[38;5;124m'\u001b[39m\u001b[38;5;124maggregated-properties.json\u001b[39m\u001b[38;5;124m'\u001b[39m,\u001b[38;5;241m8300\u001b[39m)\n",
      "Cell \u001b[1;32mIn[18], line 6\u001b[0m, in \u001b[0;36mfind_matching_closing_brace\u001b[1;34m(json_file_path, opening_brace_pos)\u001b[0m\n\u001b[0;32m      4\u001b[0m brace_count \u001b[38;5;241m=\u001b[39m \u001b[38;5;241m1\u001b[39m\n\u001b[0;32m      5\u001b[0m \u001b[38;5;28;01mwhile\u001b[39;00m brace_count \u001b[38;5;241m>\u001b[39m \u001b[38;5;241m0\u001b[39m:\n\u001b[1;32m----> 6\u001b[0m     char \u001b[38;5;241m=\u001b[39m f\u001b[38;5;241m.\u001b[39mread(\u001b[38;5;241m1\u001b[39m)\n\u001b[0;32m      7\u001b[0m     \u001b[38;5;28;01mif\u001b[39;00m char \u001b[38;5;241m==\u001b[39m \u001b[38;5;124m'\u001b[39m\u001b[38;5;124m{\u001b[39m\u001b[38;5;124m'\u001b[39m:\n\u001b[0;32m      8\u001b[0m         brace_count \u001b[38;5;241m+\u001b[39m\u001b[38;5;241m=\u001b[39m \u001b[38;5;241m1\u001b[39m\n",
      "File \u001b[1;32m<frozen codecs>:319\u001b[0m, in \u001b[0;36mdecode\u001b[1;34m(self, input, final)\u001b[0m\n",
      "\u001b[1;31mKeyboardInterrupt\u001b[0m: "
     ]
    }
   ],
   "source": [
    "find_matching_closing_brace('aggregated-properties.json',8300)"
   ]
  },
  {
   "cell_type": "code",
   "execution_count": null,
   "id": "f3157d48",
   "metadata": {},
   "outputs": [
    {
     "ename": "FileNotFoundError",
     "evalue": "[Errno 2] No such file or directory: 'aggregated-properties.json'",
     "output_type": "error",
     "traceback": [
      "\u001b[1;31m---------------------------------------------------------------------------\u001b[0m",
      "\u001b[1;31mFileNotFoundError\u001b[0m                         Traceback (most recent call last)",
      "Cell \u001b[1;32mIn[1], line 3\u001b[0m\n\u001b[0;32m      1\u001b[0m first_item \u001b[38;5;241m=\u001b[39m \u001b[38;5;28;01mNone\u001b[39;00m\n\u001b[1;32m----> 3\u001b[0m \u001b[38;5;28;01mwith\u001b[39;00m \u001b[38;5;28mopen\u001b[39m(\u001b[38;5;124m'\u001b[39m\u001b[38;5;124maggregated-properties.json\u001b[39m\u001b[38;5;124m'\u001b[39m, \u001b[38;5;124m'\u001b[39m\u001b[38;5;124mr\u001b[39m\u001b[38;5;124m'\u001b[39m, encoding\u001b[38;5;241m=\u001b[39m\u001b[38;5;124m'\u001b[39m\u001b[38;5;124mutf-8\u001b[39m\u001b[38;5;124m'\u001b[39m) \u001b[38;5;28;01mas\u001b[39;00m file:\n\u001b[0;32m      4\u001b[0m     \u001b[38;5;28;01mfor\u001b[39;00m line \u001b[38;5;129;01min\u001b[39;00m file:\n\u001b[0;32m      5\u001b[0m         \u001b[38;5;28;01mtry\u001b[39;00m:\n",
      "File \u001b[1;32mc:\\Users\\maxsu\\anaconda3\\Lib\\site-packages\\IPython\\core\\interactiveshell.py:310\u001b[0m, in \u001b[0;36m_modified_open\u001b[1;34m(file, *args, **kwargs)\u001b[0m\n\u001b[0;32m    303\u001b[0m \u001b[38;5;28;01mif\u001b[39;00m file \u001b[38;5;129;01min\u001b[39;00m {\u001b[38;5;241m0\u001b[39m, \u001b[38;5;241m1\u001b[39m, \u001b[38;5;241m2\u001b[39m}:\n\u001b[0;32m    304\u001b[0m     \u001b[38;5;28;01mraise\u001b[39;00m \u001b[38;5;167;01mValueError\u001b[39;00m(\n\u001b[0;32m    305\u001b[0m         \u001b[38;5;124mf\u001b[39m\u001b[38;5;124m\"\u001b[39m\u001b[38;5;124mIPython won\u001b[39m\u001b[38;5;124m'\u001b[39m\u001b[38;5;124mt let you open fd=\u001b[39m\u001b[38;5;132;01m{\u001b[39;00mfile\u001b[38;5;132;01m}\u001b[39;00m\u001b[38;5;124m by default \u001b[39m\u001b[38;5;124m\"\u001b[39m\n\u001b[0;32m    306\u001b[0m         \u001b[38;5;124m\"\u001b[39m\u001b[38;5;124mas it is likely to crash IPython. If you know what you are doing, \u001b[39m\u001b[38;5;124m\"\u001b[39m\n\u001b[0;32m    307\u001b[0m         \u001b[38;5;124m\"\u001b[39m\u001b[38;5;124myou can use builtins\u001b[39m\u001b[38;5;124m'\u001b[39m\u001b[38;5;124m open.\u001b[39m\u001b[38;5;124m\"\u001b[39m\n\u001b[0;32m    308\u001b[0m     )\n\u001b[1;32m--> 310\u001b[0m \u001b[38;5;28;01mreturn\u001b[39;00m io_open(file, \u001b[38;5;241m*\u001b[39margs, \u001b[38;5;241m*\u001b[39m\u001b[38;5;241m*\u001b[39mkwargs)\n",
      "\u001b[1;31mFileNotFoundError\u001b[0m: [Errno 2] No such file or directory: 'aggregated-properties.json'"
     ]
    }
   ],
   "source": [
    "first_item = None\n",
    "\n",
    "with open('aggregated-properties.json', 'r', encoding='utf-8') as file:\n",
    "    for line in file:\n",
    "        try:\n",
    "            data = json.loads(line.strip())  # Remove any leading/trailing whitespace and parse JSON\n",
    "            first_item = data\n",
    "            break  # Exit loop after finding the first item\n",
    "        except json.JSONDecodeError:\n",
    "            print(f\"Ignoring invalid JSON: {line.strip()}\")\n",
    "\n",
    "print(\"First item:\", first_item)\n"
   ]
  },
  {
   "cell_type": "code",
   "execution_count": 12,
   "id": "0cbb9427",
   "metadata": {},
   "outputs": [],
   "source": [
    "in_file_path='\\\\Users\\\\maxsu\\Desktop\\\\aggregated-properties.json\\\\aggregated-properties.json'"
   ]
  },
  {
   "cell_type": "code",
   "execution_count": 15,
   "id": "2a4dd564",
   "metadata": {},
   "outputs": [
    {
     "ename": "AttributeError",
     "evalue": "'str' object has no attribute 'read'",
     "output_type": "error",
     "traceback": [
      "\u001b[1;31m---------------------------------------------------------------------------\u001b[0m",
      "\u001b[1;31mAttributeError\u001b[0m                            Traceback (most recent call last)",
      "Cell \u001b[1;32mIn[15], line 2\u001b[0m\n\u001b[0;32m      1\u001b[0m \u001b[38;5;28;01mwith\u001b[39;00m \u001b[38;5;28mopen\u001b[39m(\u001b[38;5;124m'\u001b[39m\u001b[38;5;124maggregated-properties.json\u001b[39m\u001b[38;5;124m'\u001b[39m,\u001b[38;5;124m'\u001b[39m\u001b[38;5;124mr\u001b[39m\u001b[38;5;124m'\u001b[39m,encoding\u001b[38;5;241m=\u001b[39m\u001b[38;5;124m'\u001b[39m\u001b[38;5;124mutf-8\u001b[39m\u001b[38;5;124m'\u001b[39m) \u001b[38;5;28;01mas\u001b[39;00m in_json_file:\n\u001b[1;32m----> 2\u001b[0m     \u001b[38;5;28mprint\u001b[39m(json\u001b[38;5;241m.\u001b[39mload(\u001b[38;5;124m'\u001b[39m\u001b[38;5;124maggregated-properties.json\u001b[39m\u001b[38;5;124m'\u001b[39m)[\u001b[38;5;241m0\u001b[39m])\n",
      "File \u001b[1;32mc:\\Users\\maxsu\\anaconda3\\Lib\\json\\__init__.py:293\u001b[0m, in \u001b[0;36mload\u001b[1;34m(fp, cls, object_hook, parse_float, parse_int, parse_constant, object_pairs_hook, **kw)\u001b[0m\n\u001b[0;32m    274\u001b[0m \u001b[38;5;28;01mdef\u001b[39;00m \u001b[38;5;21mload\u001b[39m(fp, \u001b[38;5;241m*\u001b[39m, \u001b[38;5;28mcls\u001b[39m\u001b[38;5;241m=\u001b[39m\u001b[38;5;28;01mNone\u001b[39;00m, object_hook\u001b[38;5;241m=\u001b[39m\u001b[38;5;28;01mNone\u001b[39;00m, parse_float\u001b[38;5;241m=\u001b[39m\u001b[38;5;28;01mNone\u001b[39;00m,\n\u001b[0;32m    275\u001b[0m         parse_int\u001b[38;5;241m=\u001b[39m\u001b[38;5;28;01mNone\u001b[39;00m, parse_constant\u001b[38;5;241m=\u001b[39m\u001b[38;5;28;01mNone\u001b[39;00m, object_pairs_hook\u001b[38;5;241m=\u001b[39m\u001b[38;5;28;01mNone\u001b[39;00m, \u001b[38;5;241m*\u001b[39m\u001b[38;5;241m*\u001b[39mkw):\n\u001b[0;32m    276\u001b[0m \u001b[38;5;250m    \u001b[39m\u001b[38;5;124;03m\"\"\"Deserialize ``fp`` (a ``.read()``-supporting file-like object containing\u001b[39;00m\n\u001b[0;32m    277\u001b[0m \u001b[38;5;124;03m    a JSON document) to a Python object.\u001b[39;00m\n\u001b[0;32m    278\u001b[0m \n\u001b[1;32m   (...)\u001b[0m\n\u001b[0;32m    291\u001b[0m \u001b[38;5;124;03m    kwarg; otherwise ``JSONDecoder`` is used.\u001b[39;00m\n\u001b[0;32m    292\u001b[0m \u001b[38;5;124;03m    \"\"\"\u001b[39;00m\n\u001b[1;32m--> 293\u001b[0m     \u001b[38;5;28;01mreturn\u001b[39;00m loads(fp\u001b[38;5;241m.\u001b[39mread(),\n\u001b[0;32m    294\u001b[0m         \u001b[38;5;28mcls\u001b[39m\u001b[38;5;241m=\u001b[39m\u001b[38;5;28mcls\u001b[39m, object_hook\u001b[38;5;241m=\u001b[39mobject_hook,\n\u001b[0;32m    295\u001b[0m         parse_float\u001b[38;5;241m=\u001b[39mparse_float, parse_int\u001b[38;5;241m=\u001b[39mparse_int,\n\u001b[0;32m    296\u001b[0m         parse_constant\u001b[38;5;241m=\u001b[39mparse_constant, object_pairs_hook\u001b[38;5;241m=\u001b[39mobject_pairs_hook, \u001b[38;5;241m*\u001b[39m\u001b[38;5;241m*\u001b[39mkw)\n",
      "\u001b[1;31mAttributeError\u001b[0m: 'str' object has no attribute 'read'"
     ]
    }
   ],
   "source": [
    "with open('aggregated-properties.json','r',encoding='utf-8') as in_json_file:\n",
    "    print(json.load('aggregated-properties.json')[0])"
   ]
  },
  {
   "cell_type": "code",
   "execution_count": null,
   "id": "4b260acc",
   "metadata": {},
   "outputs": [],
   "source": []
  }
 ],
 "metadata": {
  "kernelspec": {
   "display_name": "Python 3 (ipykernel)",
   "language": "python",
   "name": "python3"
  },
  "language_info": {
   "codemirror_mode": {
    "name": "ipython",
    "version": 3
   },
   "file_extension": ".py",
   "mimetype": "text/x-python",
   "name": "python",
   "nbconvert_exporter": "python",
   "pygments_lexer": "ipython3",
   "version": "3.11.7"
  }
 },
 "nbformat": 4,
 "nbformat_minor": 5
}
