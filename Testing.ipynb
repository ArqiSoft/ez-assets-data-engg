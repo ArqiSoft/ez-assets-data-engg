{
 "cells": [
  {
   "cell_type": "code",
   "execution_count": null,
   "id": "cb3f972d",
   "metadata": {},
   "outputs": [],
   "source": [
    "import os\n",
    "import json"
   ]
  },
  {
   "cell_type": "code",
   "execution_count": null,
   "id": "c95e08e0",
   "metadata": {},
   "outputs": [],
   "source": [
    "print(50)"
   ]
  },
  {
   "cell_type": "code",
   "execution_count": null,
   "id": "9a59f614",
   "metadata": {},
   "outputs": [],
   "source": [
    "def count_lines_starting_with(input_file, *prefixes):\n",
    "    line_counts = {prefix: 0 for prefix in prefixes}\n",
    "    with open(input_file, 'r', encoding='utf-8') as f:  # Specify encoding here\n",
    "        for line in f:\n",
    "            for prefix in prefixes:\n",
    "                if line.startswith(prefix):\n",
    "                    line_counts[prefix] += 1\n",
    "    return line_counts"
   ]
  },
  {
   "cell_type": "code",
   "execution_count": null,
   "id": "050ad373",
   "metadata": {},
   "outputs": [],
   "source": [
    "# Call the function with the file path and prefixes\n",
    "line_counts = count_lines_starting_with('aggregated-properties.json', '\"_index\": \"aggregated-properties\"', '{')\n"
   ]
  },
  {
   "cell_type": "code",
   "execution_count": null,
   "id": "375b58a0",
   "metadata": {},
   "outputs": [],
   "source": [
    "print(\"Number of lines starting with '_index: aggregated-properties':\", line_counts['\"_index\": \"aggregated-properties\"'])"
   ]
  },
  {
   "cell_type": "code",
   "execution_count": null,
   "id": "0c4aed41",
   "metadata": {},
   "outputs": [],
   "source": [
    "print(\"Number of lines starting with '{':\", line_counts['{'])"
   ]
  },
  {
   "cell_type": "code",
   "execution_count": null,
   "id": "ae42cb19",
   "metadata": {},
   "outputs": [],
   "source": [
    "def count_lines_containing(input_file, *strings):\n",
    "    line_counts = {string: 0 for string in strings}\n",
    "    with open(input_file, 'r', encoding='utf-8') as f:\n",
    "        for line in f:\n",
    "            for string in strings:\n",
    "                if string in line:\n",
    "                    line_counts[string] += 1\n",
    "    return line_counts\n"
   ]
  },
  {
   "cell_type": "code",
   "execution_count": null,
   "id": "eb3e64f2",
   "metadata": {},
   "outputs": [],
   "source": [
    "# Call the function with the file path and strings\n",
    "line_counts = count_lines_containing('aggregated-properties.json', '\"_index\": \"aggregated-properties\"', '{')"
   ]
  },
  {
   "cell_type": "code",
   "execution_count": null,
   "id": "f3128547",
   "metadata": {},
   "outputs": [],
   "source": [
    "print(\"Number of lines containing '_index: aggregated-properties':\", line_counts['\"_index\": \"aggregated-properties\"'])"
   ]
  },
  {
   "cell_type": "code",
   "execution_count": null,
   "id": "15bed630",
   "metadata": {},
   "outputs": [],
   "source": [
    "# Function to print data between instances of the specified strings\n",
    "def print_data_between_sections(input_file, start_string, end_string):\n",
    "    found_start = False\n",
    "    found_end = False\n",
    "    data_lines = []\n",
    "    with open(input_file, 'r', encoding='utf-8') as f:\n",
    "        for line in f:\n",
    "            if found_start and not found_end:\n",
    "                data_lines.append(line.strip())\n",
    "            if start_string in line:\n",
    "                found_start = True\n",
    "                if data_lines:  # Print data from previous section\n",
    "                    print(\"Data between sections:\")\n",
    "                    for data_line in data_lines:\n",
    "                        print(data_line)\n",
    "                    print()  # Print an empty line to separate sections\n",
    "                    data_lines = []  # Reset data lines\n",
    "            elif found_start and end_string in line:\n",
    "                found_end = True\n",
    "                found_start = False\n",
    "                data_lines = []  # Reset data lines for the next section\n",
    "    if data_lines:  # Print data from the last section\n",
    "        print(\"Data between sections:\")\n",
    "        for data_line in data_lines:\n",
    "            print(data_line)"
   ]
  },
  {
   "cell_type": "code",
   "execution_count": null,
   "id": "0408ac44",
   "metadata": {},
   "outputs": [],
   "source": [
    "# Call the function with the file path and start/end strings\n",
    "print_data_between_sections('aggregated-properties.json', '\"_index\": \"aggregated-properties\"', '\"_index\": \"aggregated-properties\"')"
   ]
  },
  {
   "cell_type": "code",
   "execution_count": null,
   "id": "93cea722",
   "metadata": {},
   "outputs": [],
   "source": [
    "# Function to print the first chunk of data between instances of the specified strings\n",
    "def print_first_chunk(input_file, start_string, end_string):\n",
    "    data_lines = []\n",
    "    skip_next_two = False\n",
    "    with open(input_file, 'r', encoding='utf-8') as f:\n",
    "        for line in f:\n",
    "            if start_string in line:\n",
    "                data_lines.append(line.strip())\n",
    "                for line in f:  # Continue reading lines until reaching the end string or end of file\n",
    "                    if skip_next_two:\n",
    "                        skip_next_two = False\n",
    "                        continue\n",
    "                    data_lines.append(line.strip())\n",
    "                    if end_string in line:\n",
    "                        break\n",
    "                    if '{\"_index\": \"aggregated-properties\",' in line:\n",
    "                        skip_next_two = True\n",
    "                break  # Stop searching once the first chunk is found\n",
    "    if data_lines:  # Print the first chunk of data\n",
    "        print(\"First chunk of data between sections:\")\n",
    "        for data_line in data_lines:\n",
    "            print(data_line)"
   ]
  },
  {
   "cell_type": "code",
   "execution_count": null,
   "id": "bc3e7ae2",
   "metadata": {},
   "outputs": [],
   "source": [
    "print_first_chunk('aggregated-properties.json', '\"_index\": \"aggregated-properties\"', '\"_index\": \"aggregated-properties\"')\n"
   ]
  },
  {
   "cell_type": "code",
   "execution_count": null,
   "id": "7342c6f4",
   "metadata": {},
   "outputs": [],
   "source": [
    "def print_first_chunk(input_file, start_string, end_string):\n",
    "    data_lines = []\n",
    "    skip_next_line = False\n",
    "    with open(input_file, 'r', encoding='utf-8') as f:\n",
    "        for line in f:\n",
    "            if start_string in line:\n",
    "                if skip_next_line:\n",
    "                    skip_next_line = False\n",
    "                    continue\n",
    "                skip_next_line = True\n",
    "            elif end_string in line:\n",
    "                break\n",
    "            elif skip_next_line:\n",
    "                data_lines.append(line.strip())\n",
    "                skip_next_line = False\n",
    "\n",
    "    if data_lines:  # Print the first chunk of data\n",
    "        print(\"First chunk of data between sections:\")\n",
    "        for data_line in data_lines:\n",
    "            print(data_line)"
   ]
  },
  {
   "cell_type": "code",
   "execution_count": null,
   "id": "6799cf32",
   "metadata": {},
   "outputs": [],
   "source": [
    "print_first_chunk('aggregated-properties.json', '\"_index\": \"aggregated-properties\"', '\"_index\": \"aggregated-properties\"')"
   ]
  },
  {
   "cell_type": "code",
   "execution_count": null,
   "id": "2792a61f",
   "metadata": {},
   "outputs": [],
   "source": [
    "def print_chunks2(input_file, start_string, end_string):\n",
    "    data_lines = []\n",
    "    in_chunk = False\n",
    "    with open(input_file, 'r', encoding='utf-8') as f:\n",
    "        for line in f:\n",
    "            if start_string in line:\n",
    "                in_chunk = True\n",
    "                continue  # Skip appending the start_string line to the chunk\n",
    "            elif end_string in line:\n",
    "                in_chunk = False\n",
    "                continue  # Skip appending the end_string line to the chunk\n",
    "            elif in_chunk:\n",
    "                data_lines.append(line.strip())\n",
    "    if data_lines:  # Print the chunks\n",
    "        print(\"Chunks between sections:\")\n",
    "        for i in range(0, len(data_lines), 3):\n",
    "            print(data_lines[i])  # Print the line above the first instance\n",
    "            print(data_lines[i+1])  # Print the first instance\n",
    "            print(data_lines[i+2])  # Print the second instance\n"
   ]
  },
  {
   "cell_type": "code",
   "execution_count": null,
   "id": "0522bfcb",
   "metadata": {},
   "outputs": [],
   "source": [
    "print_chunks2('aggregated-properties.json', '\"_index\": \"aggregated-properties\"', '\"_index\": \"aggregated-properties\"')"
   ]
  },
  {
   "cell_type": "code",
   "execution_count": null,
   "id": "78cc8d46",
   "metadata": {},
   "outputs": [],
   "source": [
    "def print_chunks(input_file, start_string, end_string):\n",
    "    chunks = []\n",
    "    current_chunk = []\n",
    "    start_next_chunk = False\n",
    "    with open(input_file, 'r', encoding='utf-8') as f:\n",
    "        prev_line = None\n",
    "        for line in f:\n",
    "            if start_string in line:\n",
    "                if start_next_chunk:\n",
    "                    start_next_chunk = False\n",
    "                    if current_chunk:\n",
    "                        chunks.append(current_chunk)\n",
    "                        current_chunk = []\n",
    "                else:\n",
    "                    start_next_chunk = True\n",
    "                if current_chunk:\n",
    "                    chunks.append(current_chunk)\n",
    "                    current_chunk = []\n",
    "                if prev_line is not None:\n",
    "                    current_chunk.append(prev_line.strip())\n",
    "            elif end_string in line:\n",
    "                if current_chunk:\n",
    "                    chunks.append(current_chunk)\n",
    "                    current_chunk = []\n",
    "                break\n",
    "            elif start_next_chunk:\n",
    "                current_chunk.append(line.strip())\n",
    "                start_next_chunk = False\n",
    "            prev_line = line\n",
    "\n",
    "    if chunks:  # Print the chunks\n",
    "        print(\"Chunks between sections:\")\n",
    "        for i, chunk in enumerate(chunks):\n",
    "            print(f\"Chunk {i+1}:\")\n",
    "            for data_line in chunk:\n",
    "                print(data_line)\n",
    "\n",
    "    return chunks"
   ]
  },
  {
   "cell_type": "code",
   "execution_count": null,
   "id": "a7c934e9",
   "metadata": {},
   "outputs": [],
   "source": [
    "# Call the function with the file path and start/end strings\n",
    "chunks = print_chunks('aggregated-properties.json', '\"_index\": \"aggregated-properties\"', '\"_index\": \"aggregated-properties\"')"
   ]
  },
  {
   "cell_type": "code",
   "execution_count": null,
   "id": "14c75d69",
   "metadata": {},
   "outputs": [],
   "source": []
  }
 ],
 "metadata": {
  "kernelspec": {
   "display_name": "Python 3 (ipykernel)",
   "language": "python",
   "name": "python3"
  },
  "language_info": {
   "codemirror_mode": {
    "name": "ipython",
    "version": 3
   },
   "file_extension": ".py",
   "mimetype": "text/x-python",
   "name": "python",
   "nbconvert_exporter": "python",
   "pygments_lexer": "ipython3",
   "version": "3.11.7"
  }
 },
 "nbformat": 4,
 "nbformat_minor": 5
}
